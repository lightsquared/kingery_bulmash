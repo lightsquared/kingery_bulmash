{
 "cells": [
  {
   "cell_type": "code",
   "execution_count": 1,
   "metadata": {},
   "outputs": [],
   "source": [
    "# Data manipulation\n",
    "import pandas as pd\n",
    "import numpy as np\n",
    "from pint import UnitRegistry\n",
    "u = UnitRegistry()\n",
    "u.default_format = 'C'\n",
    "import math as m\n",
    "\n",
    "# Display all cell outputs\n",
    "from IPython.core.interactiveshell import InteractiveShell\n",
    "InteractiveShell.ast_node_interactivity = 'all'\n",
    "\n",
    "from IPython import get_ipython\n",
    "ipython = get_ipython()\n",
    "from IPython.display import display_latex\n",
    "\n",
    "# autoreload extension\n",
    "if 'autoreload' not in ipython.extension_manager.loaded:\n",
    "    %load_ext autoreload\n",
    "\n",
    "%autoreload 2\n",
    "\n",
    "# Visualizations\n",
    "import matplotlib.pyplot as plt\n",
    "h = 8\n",
    "w = h*1.61803398875\n",
    "font = {'family' : 'Times New Roman',\n",
    "        'weight' : 'bold',\n",
    "        'size'   : 20}\n",
    "\n",
    "plt.rc('font', **font)\n",
    "\n",
    "#from matplotlib import rc\n",
    "plt.rc('font',**{'family':'serif','serif':['Times New Roman']})\n",
    "plt.rc('text', usetex=True)\n",
    "\n",
    "# Publish\n",
    "from ipypublish.scripts import nb_setup"
   ]
  },
  {
   "cell_type": "code",
   "execution_count": 150,
   "metadata": {},
   "outputs": [],
   "source": [
    "def hdf5store(filename, keys, df, **kwargs):\n",
    "    store = pd.HDFStore(filename)\n",
    "    store.put(keys, df, format='table', data_columns=True)\n",
    "    store.get_storer('mydata').attrs.metadata = kwargs\n",
    "    store.close()\n",
    "    \n",
    "def kb_U_eq(df,charge_config,units,blast_param,distance):\n",
    "    coef_df = df[(df.charge_configuration == charge_config) &\n",
    "                 (df.system_of_units == units) &\n",
    "                 (df.blast_parameter == blast_param)]\n",
    "    num_eq = df[(df.charge_configuration == charge_config) &\n",
    "                (df.system_of_units == units) &\n",
    "                (df.blast_parameter == blast_param)].function.nunique()\n",
    "    lower_range = df[(df.charge_configuration == charge_config) &\n",
    "                     (df.system_of_units == units) &\n",
    "                     (df.blast_parameter == blast_param)].lower_range.unique()\n",
    "    upper_range = df[(df.charge_configuration == charge_config) &\n",
    "                     (df.system_of_units == units) &\n",
    "                     (df.blast_parameter == blast_param)].upper_range.unique()\n",
    "\n",
    "    c_s = coef_df.coefficients[(coef_df.variable == 'U')] # U coefficents\n",
    "    u = 0\n",
    "    U = 0\n",
    "    Udist = []\n",
    "    Uall = []\n",
    "    dall = []\n",
    "    func = []\n",
    "    for e in range(0,num_eq): # for each equation in num_eq\n",
    "        dsub = distance[(distance>=lower_range[e]) & # distances over which the fuction is valid.\n",
    "                        (distance<=upper_range[e])]  # corresponds to the number of functions.\n",
    "        for T in np.log10(dsub): # for each distance in dsub.\n",
    "            n = 0 # resets the power in the function to zero\n",
    "            for c in c_s: # for each coefficient in c_s.\n",
    "                u = u + c*T**n # totals u's together\n",
    "                n += 1 # increments to the next term in the function\n",
    "                func.append(u)\n",
    "            Udist.append(u) # collects each total u at each distance\n",
    "            u = 0 # resets the u value to zero for the new distance dsub\n",
    "        Uall.append(Udist) # collects each group of u's at each distance and function.\n",
    "        Udist = [] # resets the Udist value to zero for the new equation\n",
    "        dall.append(dsub)\n",
    "        flat_dall = [item for sublist in dall for item in sublist]\n",
    "        #flat_Uall = [item for sublist in Uall for item in sublist]\n",
    "    return Uall,flat_dall,c_s\n",
    "\n",
    "def kb_Y_eq(df,charge_config,units,blast_param,U):\n",
    "    coef_df = df[(df.charge_configuration == charge_config) &\n",
    "                 (df.system_of_units == units) &\n",
    "                 (df.blast_parameter == blast_param)]  \n",
    "    coef = coef_df.coefficients[(coef_df.variable == 'Y')]\n",
    "    \n",
    "    y = 0 # set y value to zero.\n",
    "    Y = [] # clear Y array\n",
    "    Yall = []\n",
    "    for u_ary in U: # for each u array in U\n",
    "        for u in u_ary: # for each u value in u_ary\n",
    "            n = 0\n",
    "            for c in coef: # for each coefficient in the function\n",
    "                y = y + c*u**n # totals the y's together\n",
    "                n += 1 # increments to the next term in the function\n",
    "            Y.append(u) # collects each total y at each distance\n",
    "            u = 0 # resets the u value to zero for the new u_ary\n",
    "        Yall.append(Y) # collects each group of Y's at each u and function\n",
    "        Y = []\n",
    "        flat_Yall = [item for sublist in Yall for item in sublist]\n",
    "    return flat_Yall"
   ]
  },
  {
   "cell_type": "code",
   "execution_count": 164,
   "metadata": {},
   "outputs": [
    {
     "data": {
      "text/plain": [
       "[[1.0, 2.0, 3.0]]"
      ]
     },
     "execution_count": 164,
     "metadata": {},
     "output_type": "execute_result"
    },
    {
     "data": {
      "text/plain": [
       "[1.0, 2.0, 3.0]"
      ]
     },
     "execution_count": 164,
     "metadata": {},
     "output_type": "execute_result"
    }
   ],
   "source": [
    "filename = 'kb_equation_data.csv'\n",
    "df = pd.read_csv(filename)\n",
    "distance = np.asarray([1,10,100])\n",
    "#distance = np.arange(0,101,.1)\n",
    "u,d,f = kb_U_eq(df,'test','imperial','test',distance)\n",
    "y = kb_Y_eq(df,'test','imperial','test',u)\n",
    "u\n",
    "y"
   ]
  },
  {
   "cell_type": "code",
   "execution_count": null,
   "metadata": {},
   "outputs": [],
   "source": []
  },
  {
   "cell_type": "code",
   "execution_count": 160,
   "metadata": {},
   "outputs": [
    {
     "data": {
      "text/plain": [
       "[<matplotlib.lines.Line2D at 0x11c10b810>]"
      ]
     },
     "execution_count": 160,
     "metadata": {},
     "output_type": "execute_result"
    },
    {
     "data": {
      "image/png": "[encoded data removed]",
      "text/plain": [
       "<Figure size 432x288 with 1 Axes>"
      ]
     },
     "metadata": {
      "needs_background": "light"
     },
     "output_type": "display_data"
    }
   ],
   "source": [
    "plt.loglog(d,y)"
   ]
  },
  {
   "cell_type": "code",
   "execution_count": 148,
   "metadata": {},
   "outputs": [
    {
     "ename": "TypeError",
     "evalue": "'list' object cannot be interpreted as an integer",
     "output_type": "error",
     "traceback": [
      "\u001b[0;31m---------------------------------------------------------------------------\u001b[0m",
      "\u001b[0;31mTypeError\u001b[0m                                 Traceback (most recent call last)",
      "\u001b[0;32m<ipython-input-148-f4d2e6088a68>\u001b[0m in \u001b[0;36m<module>\u001b[0;34m\u001b[0m\n\u001b[0;32m----> 1\u001b[0;31m \u001b[0;32mfor\u001b[0m \u001b[0me\u001b[0m \u001b[0;32min\u001b[0m \u001b[0mrange\u001b[0m\u001b[0;34m(\u001b[0m\u001b[0;36m0\u001b[0m\u001b[0;34m,\u001b[0m\u001b[0;34m[\u001b[0m\u001b[0;36m1\u001b[0m\u001b[0;34m]\u001b[0m\u001b[0;34m)\u001b[0m\u001b[0;34m:\u001b[0m\u001b[0;34m\u001b[0m\u001b[0;34m\u001b[0m\u001b[0m\n\u001b[0m\u001b[1;32m      2\u001b[0m     \u001b[0mprint\u001b[0m\u001b[0;34m(\u001b[0m\u001b[0me\u001b[0m\u001b[0;34m)\u001b[0m\u001b[0;34m\u001b[0m\u001b[0;34m\u001b[0m\u001b[0m\n",
      "\u001b[0;31mTypeError\u001b[0m: 'list' object cannot be interpreted as an integer"
     ]
    }
   ],
   "source": [
    "for e in range(0,[1]):\n",
    "    print(e)"
   ]
  },
  {
   "cell_type": "markdown",
   "metadata": {},
   "source": [
    "# Airblast Parameters From TNT Spherical Air Burst and Hemispherical Surface Burst\n",
    "*S. Kevin McNeill*\n",
    "\n",
    "*August 28, 2019*"
   ]
  },
  {
   "cell_type": "markdown",
   "metadata": {},
   "source": [
    "## Analysis\n",
    "This notebook will plot the following blast parameters for spherical air burst and hemispherical surface burst in both imperial and metric units:\n",
    "* incident pressure\n",
    "* incident impulse\n",
    "* reflected pressure\n",
    "* reflected impulse\n",
    "* shock front velocity\n",
    "* arrival time\n",
    "* positive phase duration\n"
   ]
  },
  {
   "cell_type": "markdown",
   "metadata": {},
   "source": [
    "## Data\n",
    "Data for these plots was built from the original paper *Airblast Parameters from TNT Spherical Air Burst and Hemispherical Surface Burst* by Charles N. Kingery and Gerald Bulmash.  It was hand typed into excel and then saved as a HDF5 file."
   ]
  },
  {
   "cell_type": "code",
   "execution_count": 154,
   "metadata": {},
   "outputs": [],
   "source": [
    "filename = 'kb_equation_data.csv'\n",
    "df = pd.read_csv(filename)"
   ]
  },
  {
   "cell_type": "code",
   "execution_count": 155,
   "metadata": {
    "scrolled": true
   },
   "outputs": [
    {
     "ename": "NameError",
     "evalue": "name 'keys' is not defined",
     "output_type": "error",
     "traceback": [
      "\u001b[0;31m---------------------------------------------------------------------------\u001b[0m",
      "\u001b[0;31mNameError\u001b[0m                                 Traceback (most recent call last)",
      "\u001b[0;32m<ipython-input-155-4ae598c4803e>\u001b[0m in \u001b[0;36m<module>\u001b[0;34m\u001b[0m\n\u001b[0;32m----> 1\u001b[0;31m \u001b[0mhdf5store\u001b[0m\u001b[0;34m(\u001b[0m\u001b[0;34m'kb_coefficient.h5'\u001b[0m\u001b[0;34m,\u001b[0m \u001b[0mkeys\u001b[0m\u001b[0;34m,\u001b[0m \u001b[0mdf\u001b[0m\u001b[0;34m,\u001b[0m \u001b[0;34m**\u001b[0m\u001b[0mkwargs\u001b[0m\u001b[0;34m)\u001b[0m\u001b[0;34m\u001b[0m\u001b[0;34m\u001b[0m\u001b[0m\n\u001b[0m",
      "\u001b[0;31mNameError\u001b[0m: name 'keys' is not defined"
     ]
    }
   ],
   "source": [
    "hdf5store('kb_coefficient.h5', keys, df, **kwargs)"
   ]
  },
  {
   "cell_type": "code",
   "execution_count": 49,
   "metadata": {
    "scrolled": false
   },
   "outputs": [],
   "source": [
    "charge_config = 'hemispherical'\n",
    "units = 'imperial'\n",
    "blast_param = 'positive_phase_duration'\n",
    "U = np.arange(0,200,0.1)\n",
    "\n",
    "num_eq = df[(df.charge_configuration == charge_config) &\n",
    "          (df.system_of_units == units) &\n",
    "          (df.blast_parameter == blast_param)].function.nunique()\n",
    "lower_range = df[(df.charge_configuration == charge_config) &\n",
    "          (df.system_of_units == units) &\n",
    "          (df.blast_parameter == blast_param)].lower_range.unique()\n",
    "upper_range = df[(df.charge_configuration == charge_config) &\n",
    "          (df.system_of_units == units) &\n",
    "          (df.blast_parameter == blast_param)].upper_range.unique()\n",
    "coef_df = df[(df.charge_configuration == charge_config) &\n",
    "          (df.system_of_units == units) &\n",
    "          (df.blast_parameter == blast_param)]\n",
    "    \n",
    "Coef = coef_df.coefficients[(coef_df.variable == 'Y')]\n",
    "\n",
    "\n",
    "y = 0\n",
    "Y = []\n",
    "for e in range(0,num_eq):\n",
    "    Unew = U[(U>=lower_range[e]) & (U<=upper_range[e])]\n",
    "    for u in Unew: \n",
    "        n = 0\n",
    "        for c in Coef: \n",
    "            y = y + c*u**n\n",
    "            n += 1\n",
    "        Y.append(u)\n",
    "        u = 0"
   ]
  },
  {
   "cell_type": "markdown",
   "metadata": {},
   "source": [
    "## Plots\n"
   ]
  },
  {
   "cell_type": "code",
   "execution_count": null,
   "metadata": {},
   "outputs": [],
   "source": [
    "fig = plt.figure(figsize=(w,h));\n",
    "plt.xlabel('Distance (ft)');\n",
    "plt.ylabel('Kingery Bulmash U Parameter');\n",
    "plt.plot(distance,U, 'ro', linestyle = '-');"
   ]
  },
  {
   "cell_type": "code",
   "execution_count": null,
   "metadata": {},
   "outputs": [],
   "source": [
    "coef_df = df[(df.charge_configuration == charge_config) &\n",
    "             (df.system_of_units == units) &\n",
    "             (df.blast_parameter == blast_param)]\n",
    "\n",
    "Coef = coef_df.coefficients[(coef_df.variable == 'Y')]\n",
    "y = 0\n",
    "Y = []\n",
    "for u in U: \n",
    "    n = 0\n",
    "    for c in Coef: \n",
    "        y = y + c*u**n\n",
    "        print(n,c,u,c*u**n)\n",
    "        n += 1\n",
    "    Y.append(y)\n",
    "    u = 0\n",
    "print(U,Y)"
   ]
  },
  {
   "cell_type": "markdown",
   "metadata": {},
   "source": [
    "## References"
   ]
  }
 ],
 "metadata": {
  "kernelspec": {
   "display_name": "Python (dissertation)",
   "language": "python",
   "name": "dissertation"
  },
  "language_info": {
   "codemirror_mode": {
    "name": "ipython",
    "version": 3
   },
   "file_extension": ".py",
   "mimetype": "text/x-python",
   "name": "python",
   "nbconvert_exporter": "python",
   "pygments_lexer": "ipython3",
   "version": "3.7.4"
  }
 },
 "nbformat": 4,
 "nbformat_minor": 2
}
